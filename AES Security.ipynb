{
 "cells": [
  {
   "cell_type": "code",
   "execution_count": 33,
   "metadata": {},
   "outputs": [],
   "source": [
    "from Crypto.Cipher import AES\n",
    "from Crypto import Random"
   ]
  },
  {
   "cell_type": "code",
   "execution_count": 128,
   "metadata": {
    "scrolled": false
   },
   "outputs": [
    {
     "name": "stdout",
     "output_type": "stream",
     "text": [
      "CFB cipher output:  cdc0b4116e6fac20019659700d3530555ce597c9318d0120cf\n",
      "CFB plain output:  Hello from the other side\n",
      "ECB cipher output:  0bfc5b9319847a63b40f38445d22f6ec99d051e707e522172f69d971a76996aa\n",
      "ECB plain output:  Hello from the other side\n"
     ]
    }
   ],
   "source": [
    "def encryptCFB(plain, key):\n",
    "    cipher = AES.new(key.encode(\"utf8\") , AES.MODE_CFB)# CFB mode\n",
    "    ciphered_plain = cipher.encrypt(plain.encode(\"utf8\"))\n",
    "    file_out = open(output_file, \"wb\")\n",
    "    file_out.write(cipher.iv)\n",
    "    file_out.write(ciphered_plain)\n",
    "    file_out.close()\n",
    "    return ciphered_plain\n",
    "\n",
    "\n",
    "def encryptECB(plain, key):\n",
    "    cipher1 = AES.new(key.encode(\"utf8\"), AES.MODE_ECB)  \n",
    "    plain_text_length = len(plain)\n",
    "    if((plain_text_length%16!=0)):\n",
    "        plain_text_length = plain_text_length+(16-(plain_text_length%16))\n",
    "        plain=plain.rjust(plain_text_length)\n",
    "    msg =cipher1.encrypt(plain.encode(\"utf8\"))\n",
    "    return msg\n",
    "\n",
    "\n",
    "\n",
    "def decryptECB(cipher, key):\n",
    "    decipher = AES.new(key.encode(\"utf8\"), AES.MODE_ECB)\n",
    "    msg = decipher.decrypt(cipher)\n",
    "    msg = msg.strip().decode()\n",
    "    return msg\n",
    "\n",
    "\n",
    "def decryptCFB(cipher, key):\n",
    "    input_file = 'encrypted.bin'\n",
    "    file_in = open(input_file, 'rb')\n",
    "    iv = file_in.read(16)\n",
    "    ciphered_plain = file_in.read()\n",
    "    file_in.close()\n",
    "\n",
    "    cipher = AES.new(key.encode(\"utf8\"), AES.MODE_CFB, iv=iv)\n",
    "    original_plain = cipher.decrypt(ciphered_plain) # No need to un-pad\n",
    "    return original_plain.decode()\n",
    "\n",
    "\n",
    "if __name__ == \"__main__\":\n",
    "    key = 'Sixteen byte key'\n",
    "    plain = 'Hello from the other side'\n",
    "    CFBcipher = encryptCFB(plain, key)\n",
    "    print('CFB cipher output: ', CFBcipher.hex())\n",
    "    CFBplain = decryptCFB(CFBcipher, key)\n",
    "    print('CFB plain output: ', CFBplain)\n",
    "\n",
    "    ECBcipher = encryptECB(plain, key)\n",
    "    print('ECB cipher output: ', ECBcipher.hex())\n",
    "    ECBplain = decryptECB(ECBcipher, key)\n",
    "    print('ECB plain output: ', ECBplain)\n"
   ]
  },
  {
   "cell_type": "code",
   "execution_count": 48,
   "metadata": {},
   "outputs": [
    {
     "name": "stdout",
     "output_type": "stream",
     "text": [
      "b'\\xf9\\xa9\\x02\\xa7\\xa4\\xc9+sx\\x0f\\'\\xd4\"\\x99V\\x8f\\xb3JX\\xb1\\x85\\xc0=O\\xa7'\n"
     ]
    }
   ],
   "source": [
    "output_file = 'encrypted.bin'\n",
    "\n",
    "key = 'Sixteen byte key'\n",
    "data = 'Hello from the other side'\n",
    "cipher = AES.new(key.encode(\"utf8\") , AES.MODE_CFB)# CFB mode\n",
    "ciphered_data = cipher.encrypt(data.encode(\"utf8\")) # Only need to encrypt the data, no padding required for this mode\n",
    "print(ciphered_data)\n",
    "file_out = open(output_file, \"wb\")\n",
    "file_out.write(cipher.iv)\n",
    "file_out.write(ciphered_data)\n",
    "file_out.close()"
   ]
  },
  {
   "cell_type": "code",
   "execution_count": 51,
   "metadata": {},
   "outputs": [],
   "source": [
    "input_file = 'encrypted.bin'\n",
    "key = 'Sixteen byte key'\n",
    "file_in = open(input_file, 'rb')\n",
    "iv = file_in.read(16)\n",
    "ciphered_data = file_in.read()\n",
    "file_in.close()\n",
    "\n",
    "cipher = AES.new(key.encode(\"utf8\"), AES.MODE_CFB, iv=iv)\n",
    "original_data = cipher.decrypt(ciphered_data) # No need to un-pad"
   ]
  },
  {
   "cell_type": "code",
   "execution_count": 53,
   "metadata": {},
   "outputs": [
    {
     "name": "stdout",
     "output_type": "stream",
     "text": [
      "Hello from the other side\n"
     ]
    }
   ],
   "source": [
    "print(original_data.decode())"
   ]
  },
  {
   "cell_type": "code",
   "execution_count": 121,
   "metadata": {},
   "outputs": [
    {
     "name": "stdout",
     "output_type": "stream",
     "text": [
      "b'\\x0b\\xfc[\\x93\\x19\\x84zc\\xb4\\x0f8D]\"\\xf6\\xec\\x99\\xd0Q\\xe7\\x07\\xe5\"\\x17/i\\xd9q\\xa7i\\x96\\xaa'\n",
      "       Hello from the other side\n"
     ]
    }
   ],
   "source": [
    "key = 'Sixteen byte key'\n",
    "data = 'Hello from the other side'\n",
    "cipher1 = AES.new(key.encode(\"utf8\"), AES.MODE_ECB)  \n",
    "plain_text_length = len(data)\n",
    "if((plain_text_length%16!=0)):\n",
    "    plain_text_length = plain_text_length+(16-(plain_text_length%16))\n",
    "    data=data.rjust(plain_text_length)\n",
    "msg =cipher1.encrypt(data.encode(\"utf8\"))\n",
    "print(msg) \n",
    "print(data)"
   ]
  },
  {
   "cell_type": "code",
   "execution_count": 122,
   "metadata": {},
   "outputs": [
    {
     "name": "stdout",
     "output_type": "stream",
     "text": [
      "Test String Trailing space to be added  hi\n"
     ]
    }
   ],
   "source": [
    "string1=\"Test String Trailing space to be added\"\n",
    "string_length=len(string1)+2    # will be adding 10 extra spaces\n",
    "string_revised=string1.ljust(string_length)\n",
    "print (string_revised+\"hi\")"
   ]
  },
  {
   "cell_type": "code",
   "execution_count": 123,
   "metadata": {
    "scrolled": true
   },
   "outputs": [
    {
     "name": "stdout",
     "output_type": "stream",
     "text": [
      "Hello from the other side\n"
     ]
    }
   ],
   "source": [
    "decipher = AES.new(key.encode(\"utf8\"), AES.MODE_ECB)\n",
    "msg = decipher.decrypt(msg)\n",
    "print(msg.strip().decode())"
   ]
  },
  {
   "cell_type": "code",
   "execution_count": 124,
   "metadata": {},
   "outputs": [
    {
     "name": "stdout",
     "output_type": "stream",
     "text": [
      "    This is Test String to strip leading space\n",
      "This is Test String to strip leading space\n"
     ]
    }
   ],
   "source": [
    "string1=\"    This is Test String to strip leading space\"\n",
    "print (string1)\n",
    "print (string1.lstrip())"
   ]
  },
  {
   "cell_type": "code",
   "execution_count": null,
   "metadata": {},
   "outputs": [],
   "source": []
  }
 ],
 "metadata": {
  "kernelspec": {
   "display_name": "Python 3",
   "language": "python",
   "name": "python3"
  },
  "language_info": {
   "codemirror_mode": {
    "name": "ipython",
    "version": 3
   },
   "file_extension": ".py",
   "mimetype": "text/x-python",
   "name": "python",
   "nbconvert_exporter": "python",
   "pygments_lexer": "ipython3",
   "version": "3.6.5"
  }
 },
 "nbformat": 4,
 "nbformat_minor": 2
}
