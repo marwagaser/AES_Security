{
 "cells": [
  {
   "cell_type": "code",
   "execution_count": 3,
   "metadata": {},
   "outputs": [],
   "source": [
    "from Crypto.Cipher import AES\n",
    "from Crypto import Random"
   ]
  },
  {
   "cell_type": "code",
   "execution_count": 5,
   "metadata": {
    "scrolled": false
   },
   "outputs": [
    {
     "name": "stdout",
     "output_type": "stream",
     "text": [
      "CFB cipher output:  94d1a24cdaf33cfab83c95860ab497ba4dcdaea666a9973256\n",
      "CFB plain output:  Hello from the other side\n",
      "ECB cipher output:  0bfc5b9319847a63b40f38445d22f6ec99d051e707e522172f69d971a76996aa\n",
      "ECB plain output:  Hello from the other side\n"
     ]
    }
   ],
   "source": [
    "def encryptCFB(plain, key):\n",
    "    op = 'encryptedText.bin'\n",
    "    cipher = AES.new(key.encode(\"utf8\") , AES.MODE_CFB)\n",
    "    ciphered_plain = cipher.encrypt(plain.encode(\"utf8\"))\n",
    "    cipheredResult_file = open(op, \"wb\")\n",
    "    cipheredResult_file.write(cipher.iv)\n",
    "    cipheredResult_file.write(ciphered_plain)\n",
    "    cipheredResult_file.close()\n",
    "    return ciphered_plain\n",
    "\n",
    "\n",
    "def encryptECB(plain, key):\n",
    "    cipher1 = AES.new(key.encode(\"utf8\"), AES.MODE_ECB)  \n",
    "    plain_text_length = len(plain)\n",
    "    if((plain_text_length%16!=0)):\n",
    "        plain_text_length = plain_text_length+(16-(plain_text_length%16))\n",
    "        plain=plain.rjust(plain_text_length)\n",
    "    msg =cipher1.encrypt(plain.encode(\"utf8\"))\n",
    "    return msg\n",
    "\n",
    "\n",
    "\n",
    "def decryptECB(cipher, key):\n",
    "    decrypt_text = AES.new(key.encode(\"utf8\"), AES.MODE_ECB)\n",
    "    msg = decrypt_text.decrypt(cipher)\n",
    "    msg = msg.strip().decode()\n",
    "    return msg\n",
    "\n",
    "\n",
    "def decryptCFB(cipher, key):\n",
    "    ip = 'encryptedText.bin'\n",
    "    decipheredResult_file = open(ip, 'rb')\n",
    "    iv = decipheredResult_file.read(16)\n",
    "    ciphered_plain = decipheredResult_file.read()\n",
    "    decipheredResult_file.close()\n",
    "    cipher = AES.new(key.encode(\"utf8\"), AES.MODE_CFB, iv=iv)\n",
    "    original_plain_text = cipher.decrypt(ciphered_plain) # No need to un-pad\n",
    "    return original_plain_text.decode()\n",
    "\n",
    "\n",
    "if __name__ == \"__main__\":\n",
    "    key = 'Sixteen byte key'\n",
    "    plain = 'Hello from the other side'\n",
    "    CFBcipher = encryptCFB(plain, key)\n",
    "    print('CFB cipher output: ', CFBcipher.hex())\n",
    "    CFBplain = decryptCFB(CFBcipher, key)\n",
    "    print('CFB plain output: ', CFBplain)\n",
    "\n",
    "    ECBcipher = encryptECB(plain, key)\n",
    "    print('ECB cipher output: ', ECBcipher.hex())\n",
    "    ECBplain = decryptECB(ECBcipher, key)\n",
    "    print('ECB plain output: ', ECBplain)\n"
   ]
  },
  {
   "cell_type": "code",
   "execution_count": null,
   "metadata": {},
   "outputs": [],
   "source": []
  }
 ],
 "metadata": {
  "kernelspec": {
   "display_name": "Python 3",
   "language": "python",
   "name": "python3"
  },
  "language_info": {
   "codemirror_mode": {
    "name": "ipython",
    "version": 3
   },
   "file_extension": ".py",
   "mimetype": "text/x-python",
   "name": "python",
   "nbconvert_exporter": "python",
   "pygments_lexer": "ipython3",
   "version": "3.6.5"
  }
 },
 "nbformat": 4,
 "nbformat_minor": 2
}
